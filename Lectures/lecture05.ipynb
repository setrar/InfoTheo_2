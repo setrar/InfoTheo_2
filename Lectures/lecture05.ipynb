{
 "cells": [
  {
   "cell_type": "markdown",
   "id": "d5abe254-6264-4792-bf22-73d913c4d3c5",
   "metadata": {},
   "source": [
    "![Figure Caption](images/fig05.png)"
   ]
  },
  {
   "cell_type": "code",
   "execution_count": null,
   "id": "d8ae3fe1-ba7f-4d8e-b095-f964f25d18bf",
   "metadata": {},
   "outputs": [],
   "source": []
  }
 ],
 "metadata": {
  "kernelspec": {
   "display_name": "Julia 1.11.1",
   "language": "julia",
   "name": "julia-1.11"
  },
  "language_info": {
   "file_extension": ".jl",
   "mimetype": "application/julia",
   "name": "julia",
   "version": "1.11.1"
  }
 },
 "nbformat": 4,
 "nbformat_minor": 5
}
