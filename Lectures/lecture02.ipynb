{
 "cells": [
  {
   "cell_type": "markdown",
   "id": "2a656231-dcdf-49bf-82d3-84f8d011b632",
   "metadata": {},
   "source": [
    "# Capacity of wireless channels"
   ]
  },
  {
   "cell_type": "code",
   "execution_count": null,
   "id": "aab5c9d1-41a6-4c87-bee2-fac2f98f87fa",
   "metadata": {},
   "outputs": [],
   "source": []
  }
 ],
 "metadata": {
  "kernelspec": {
   "display_name": "Julia 1.11.1",
   "language": "julia",
   "name": "julia-1.11"
  },
  "language_info": {
   "file_extension": ".jl",
   "mimetype": "application/julia",
   "name": "julia",
   "version": "1.11.1"
  }
 },
 "nbformat": 4,
 "nbformat_minor": 5
}
