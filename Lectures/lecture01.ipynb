{
 "cells": [
  {
   "cell_type": "markdown",
   "id": "76f4f08a-0894-4905-9c34-54d2ad3918b6",
   "metadata": {},
   "source": [
    "### Entrory (in bits - amount of information)"
   ]
  },
  {
   "cell_type": "code",
   "execution_count": 4,
   "id": "3d42b592-67f0-4154-8ca7-e0958b46f0f6",
   "metadata": {},
   "outputs": [
    {
     "name": "stdout",
     "output_type": "stream",
     "text": [
      "-(log2(p₁)) = 0.014499569695115089\n",
      "-(log2(p₂)) = 6.643856189774724\n"
     ]
    }
   ],
   "source": [
    "p₁ = 0.99; @show -log2(p₁);\n",
    "p₂ = 0.01; @show -log2(p₂);"
   ]
  },
  {
   "cell_type": "markdown",
   "id": "999385e8-bf0d-4667-be9f-1fb72e28e948",
   "metadata": {},
   "source": [
    "### Joint Entropy"
   ]
  },
  {
   "cell_type": "markdown",
   "id": "0d17ebf4-f8a8-4c36-b2bf-96b2091e7298",
   "metadata": {},
   "source": [
    "$H(X,Y) = - E[log \\, p(X,Y)] = - \\sum\\limits_{x \\in \\mathcal{X}} \\sum\\limits_{y \\in \\mathcal{Y}}$"
   ]
  },
  {
   "cell_type": "markdown",
   "id": "6d77fe99-3d56-40fe-9c5c-3407a21ad5ea",
   "metadata": {},
   "source": [
    "### Proof of DPI using Marko Chains"
   ]
  },
  {
   "cell_type": "markdown",
   "id": "eb5d15ec-2fce-48cb-8b13-de112c450329",
   "metadata": {},
   "source": [
    "$P(X,Z|Y) \\overset{\\tiny\\text{(br)}}{=} \\frac{P(X,Y,Z)}{P(Y)} \\overset{\\tiny\\text{(br)}}{=} \\frac{P(Z|Y,X) \\, P(X,Y)}{P(Y)} \\overset{\\tiny\\text{(mc+br)}}{=} P(Z|Y) P(X|Y)$ "
   ]
  },
  {
   "cell_type": "markdown",
   "id": "31efb4b6-7e3b-4e31-aa26-6a5dd33e3cfb",
   "metadata": {},
   "source": [
    "#### Rules Coding\n",
    "- (br) => Bayes Rules\n",
    "- (cr) => Chain Rules\n",
    "- (cre) => Conditioning Reduces Entropy\n",
    "- (maxH) => Maximum Entropy"
   ]
  },
  {
   "cell_type": "markdown",
   "id": "3c365388-1de3-49e2-ac40-bf5549b1ff96",
   "metadata": {},
   "source": [
    "$E[\\mathcal{L}(\\xi(X^n))]$"
   ]
  },
  {
   "cell_type": "code",
   "execution_count": null,
   "id": "c5a4a7f0-2e9d-4b3a-ab45-85651b3d694a",
   "metadata": {},
   "outputs": [],
   "source": []
  }
 ],
 "metadata": {
  "kernelspec": {
   "display_name": "Julia 1.11.1",
   "language": "julia",
   "name": "julia-1.11"
  },
  "language_info": {
   "file_extension": ".jl",
   "mimetype": "application/julia",
   "name": "julia",
   "version": "1.11.1"
  }
 },
 "nbformat": 4,
 "nbformat_minor": 5
}
